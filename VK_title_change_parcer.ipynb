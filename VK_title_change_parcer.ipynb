{
 "cells": [
  {
   "cell_type": "code",
   "execution_count": null,
   "id": "9c57c961",
   "metadata": {},
   "outputs": [],
   "source": [
    "from glob import glob\n",
    "from bs4 import BeautifulSoup"
   ]
  },
  {
   "cell_type": "code",
   "execution_count": null,
   "id": "a031d1b5",
   "metadata": {},
   "outputs": [],
   "source": [
    "import re\n",
    "\n",
    "def atof(text):\n",
    "    try:\n",
    "        retval = float(text)\n",
    "    except ValueError:\n",
    "        retval = text\n",
    "    return retval\n",
    "\n",
    "def natural_keys(text):\n",
    "    return [ atof(c) for c in re.split(r'[+-]?([0-9]+(?:[.][0-9]*)?|[.][0-9]+)', text) ]"
   ]
  },
  {
   "cell_type": "code",
   "execution_count": null,
   "id": "ab43242a",
   "metadata": {},
   "outputs": [],
   "source": [
    "files = glob('2000000038/*')"
   ]
  },
  {
   "cell_type": "code",
   "execution_count": null,
   "id": "cd6780a2",
   "metadata": {
    "scrolled": true
   },
   "outputs": [],
   "source": [
    "files.sort(key=natural_keys)"
   ]
  },
  {
   "cell_type": "code",
   "execution_count": null,
   "id": "2a719427",
   "metadata": {},
   "outputs": [],
   "source": [
    "messages = []"
   ]
  },
  {
   "cell_type": "code",
   "execution_count": null,
   "id": "9792b3c5",
   "metadata": {},
   "outputs": [],
   "source": [
    "for file in files:\n",
    "    with open(file, encoding='cp1251')  as fp:\n",
    "        soup = BeautifulSoup(fp, 'html.parser')\n",
    "        div_list = soup.find_all(\"div\", {\"class\": \"message\"})\n",
    "\n",
    "        for div in div_list:\n",
    "            messages.append(div.find_all('div')[1].get_text())"
   ]
  },
  {
   "cell_type": "code",
   "execution_count": null,
   "id": "4b165879",
   "metadata": {},
   "outputs": [],
   "source": [
    "len(messages)"
   ]
  },
  {
   "cell_type": "code",
   "execution_count": null,
   "id": "4ce799a9",
   "metadata": {
    "scrolled": false
   },
   "outputs": [],
   "source": [
    "titles = []\n",
    "for message in messages:\n",
    "    if 'название беседы' in message:\n",
    "        try:\n",
    "            titles.append(message.split(' → ')[1])\n",
    "            print(message.split(' → ')[1].replace(\"«\", '').replace(\"»\", ''))\n",
    "        except:\n",
    "            print(message)"
   ]
  },
  {
   "cell_type": "code",
   "execution_count": null,
   "id": "a869b778",
   "metadata": {},
   "outputs": [],
   "source": [
    "titles.reverse()"
   ]
  },
  {
   "cell_type": "code",
   "execution_count": null,
   "id": "4a0f421d",
   "metadata": {
    "scrolled": false
   },
   "outputs": [],
   "source": [
    "for title in titles:\n",
    "    print(title.replace(\"«\", '').replace(\"»\", ''))"
   ]
  },
  {
   "cell_type": "code",
   "execution_count": null,
   "id": "62b8d4a7",
   "metadata": {},
   "outputs": [],
   "source": []
  }
 ],
 "metadata": {
  "kernelspec": {
   "display_name": "Python 3",
   "language": "python",
   "name": "python3"
  },
  "language_info": {
   "codemirror_mode": {
    "name": "ipython",
    "version": 3
   },
   "file_extension": ".py",
   "mimetype": "text/x-python",
   "name": "python",
   "nbconvert_exporter": "python",
   "pygments_lexer": "ipython3",
   "version": "3.6.8"
  }
 },
 "nbformat": 4,
 "nbformat_minor": 5
}

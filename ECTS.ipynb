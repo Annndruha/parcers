{
 "cells": [
  {
   "cell_type": "markdown",
   "id": "e81e8ec3",
   "metadata": {},
   "source": [
    "### Этот скрипт предназначен для парсинга страницы https://lk.msu.ru/cabinet/marks\n",
    "\n",
    "Для автоматического парсинга предмета, оценок и зачётных единиц\n",
    "\n",
    "**Вход скрипта:** Имя html файла (скачанной страницы с оценками). Обычно называется Оценки.html\n",
    "\n",
    "**Выход скрипта:** Таблица с оценками в txt, удобная для вставки в excel."
   ]
  },
  {
   "cell_type": "markdown",
   "id": "57ea1d29",
   "metadata": {},
   "source": [
    "**Импорты и загрузка файла**"
   ]
  },
  {
   "cell_type": "code",
   "execution_count": null,
   "id": "50e548b5",
   "metadata": {},
   "outputs": [],
   "source": [
    "from bs4 import BeautifulSoup\n",
    "import glob\n",
    "import math"
   ]
  },
  {
   "cell_type": "code",
   "execution_count": null,
   "id": "e5f437cc",
   "metadata": {},
   "outputs": [],
   "source": [
    "NAME = glob.glob(\"*Оценки*.htm*\")[0]\n",
    "\n",
    "with open(NAME) as fp:\n",
    "    soup = BeautifulSoup(fp, 'html.parser')"
   ]
  },
  {
   "cell_type": "markdown",
   "id": "d104aff7",
   "metadata": {},
   "source": [
    "**Парсинг до момента списка из нужных элементов**"
   ]
  },
  {
   "cell_type": "code",
   "execution_count": null,
   "id": "b3346043",
   "metadata": {},
   "outputs": [],
   "source": [
    "content = soup.find(\"div\", {\"id\": \"w0\"})"
   ]
  },
  {
   "cell_type": "code",
   "execution_count": null,
   "id": "e9db9788",
   "metadata": {},
   "outputs": [],
   "source": [
    "content = content.find_all('table')[0].findAll('tr')[1:]"
   ]
  },
  {
   "cell_type": "markdown",
   "id": "91220648",
   "metadata": {},
   "source": [
    "**Вытаскивание нужных данных из каждого элемента**"
   ]
  },
  {
   "cell_type": "code",
   "execution_count": null,
   "id": "a87cd054",
   "metadata": {},
   "outputs": [],
   "source": [
    "def get_values(leader):\n",
    "    if \"text-success\" in str(leader):\n",
    "        diploma = 1\n",
    "    else:\n",
    "        diploma = 0\n",
    "    term = leader.find_all('td')[0].get_text()\n",
    "    mark = leader.find_all('td')[2].get_text()\n",
    "    subject = leader.find_all('td')[1].get_text().split(\"Зачетных единиц:\")[0]\n",
    "    \n",
    "    score = leader.find_all('td')[1].find('strong').get_text()\n",
    "    return term, subject, mark, score, diploma"
   ]
  },
  {
   "cell_type": "code",
   "execution_count": null,
   "id": "0ac821b1",
   "metadata": {},
   "outputs": [],
   "source": [
    "res = [get_values(item) for item in content] # (term, subject, mark, score, diploma) "
   ]
  },
  {
   "cell_type": "markdown",
   "id": "8e433ac0",
   "metadata": {},
   "source": [
    "**Подсчёты результатов**"
   ]
  },
  {
   "cell_type": "code",
   "execution_count": null,
   "id": "e5bbf0df",
   "metadata": {},
   "outputs": [],
   "source": [
    "marks = []\n",
    "for item in res:\n",
    "    marks.append(item[2])\n",
    "total = sum([int(float(item[3])) for item in res])"
   ]
  },
  {
   "cell_type": "code",
   "execution_count": null,
   "id": "8beacb55",
   "metadata": {},
   "outputs": [],
   "source": [
    "print(\"Зачётных единиц суммарно:\", total)\n",
    "print(\"Отлично:\", marks.count(\"отлично\"))\n",
    "print(\"Хорошо: \", marks.count(\"хорошо\"))\n",
    "print(\"Удовлетворительно: \", marks.count(\"удов.\"))\n",
    "print(\"Зачтено: \", marks.count(\"зачтено\"))"
   ]
  },
  {
   "cell_type": "markdown",
   "id": "d2bc5a0a",
   "metadata": {},
   "source": [
    "**Сохранение в .txt**"
   ]
  },
  {
   "cell_type": "code",
   "execution_count": null,
   "id": "fe07b874",
   "metadata": {},
   "outputs": [],
   "source": [
    "with open(NAME.replace(\".html\", \".txt\").replace(\".htm\", \".txt\"), \"w+\") as f:\n",
    "    for item in res:\n",
    "        term, subject, mark, score, diploma = item\n",
    "        total += float(score)\n",
    "        f.write(f\"{term}\\t{subject}\\t{mark}\\t{score}\\t{diploma}\\n\")\n",
    "    print(f\"\"\"Result saved in '{NAME.replace(\".html\", \".txt\").replace(\".htm\", \".txt\")}'\"\"\")"
   ]
  },
  {
   "cell_type": "code",
   "execution_count": null,
   "id": "096247e2",
   "metadata": {},
   "outputs": [],
   "source": []
  }
 ],
 "metadata": {},
 "nbformat": 4,
 "nbformat_minor": 5
}

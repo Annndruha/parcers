{
 "cells": [
  {
   "cell_type": "markdown",
   "id": "59c735b9",
   "metadata": {},
   "source": [
    "### Этот скрипт предназначен для парсинга страницы https://lk.msu.ru/cabinet/marks\n",
    "\n",
    "Для автоматического парсинга предмета, оценок и зачётных единиц\n",
    "\n",
    "**Вход скрипта:** Имя html файла (скачанной страницы с оценками). Обычно называется Оценки.html\n",
    "\n",
    "**Выход скрипта:** Таблица с оценками в txt, удобная для вставки в excel."
   ]
  },
  {
   "cell_type": "markdown",
   "id": "07f8f64c",
   "metadata": {},
   "source": [
    "**Импорты и загрузка файла**"
   ]
  },
  {
   "cell_type": "code",
   "execution_count": 1,
   "id": "a62577c1",
   "metadata": {},
   "outputs": [],
   "source": [
    "from bs4 import BeautifulSoup\n",
    "import glob\n",
    "import math"
   ]
  },
  {
   "cell_type": "code",
   "execution_count": null,
   "id": "d12e4975",
   "metadata": {},
   "outputs": [],
   "source": [
    "NAME = glob.glob(\"*Оценки*.htm*\")[0]\n",
    "\n",
    "with open(NAME) as fp:\n",
    "    soup = BeautifulSoup(fp, 'html.parser')"
   ]
  },
  {
   "cell_type": "markdown",
   "id": "34457296",
   "metadata": {},
   "source": [
    "**Парсинг до момента списка из нужных элементов**"
   ]
  },
  {
   "cell_type": "code",
   "execution_count": 3,
   "id": "79e14c37",
   "metadata": {},
   "outputs": [
    {
     "ename": "NameError",
     "evalue": "name 'soup' is not defined",
     "output_type": "error",
     "traceback": [
      "\u001b[0;31m---------------------------------------------------------------------------\u001b[0m",
      "\u001b[0;31mNameError\u001b[0m                                 Traceback (most recent call last)",
      "Input \u001b[0;32mIn [3]\u001b[0m, in \u001b[0;36m<cell line: 1>\u001b[0;34m()\u001b[0m\n\u001b[0;32m----> 1\u001b[0m content \u001b[38;5;241m=\u001b[39m \u001b[43msoup\u001b[49m\u001b[38;5;241m.\u001b[39mfind(\u001b[38;5;124m\"\u001b[39m\u001b[38;5;124mdiv\u001b[39m\u001b[38;5;124m\"\u001b[39m, {\u001b[38;5;124m\"\u001b[39m\u001b[38;5;124mid\u001b[39m\u001b[38;5;124m\"\u001b[39m: \u001b[38;5;124m\"\u001b[39m\u001b[38;5;124mw0\u001b[39m\u001b[38;5;124m\"\u001b[39m})\n",
      "\u001b[0;31mNameError\u001b[0m: name 'soup' is not defined"
     ]
    }
   ],
   "source": [
    "content = soup.find(\"div\", {\"id\": \"w0\"})"
   ]
  },
  {
   "cell_type": "code",
   "execution_count": 2,
   "id": "b88350d8",
   "metadata": {},
   "outputs": [
    {
     "ename": "NameError",
     "evalue": "name 'content' is not defined",
     "output_type": "error",
     "traceback": [
      "\u001b[0;31m---------------------------------------------------------------------------\u001b[0m",
      "\u001b[0;31mNameError\u001b[0m                                 Traceback (most recent call last)",
      "Input \u001b[0;32mIn [2]\u001b[0m, in \u001b[0;36m<cell line: 1>\u001b[0;34m()\u001b[0m\n\u001b[0;32m----> 1\u001b[0m content \u001b[38;5;241m=\u001b[39m \u001b[43mcontent\u001b[49m\u001b[38;5;241m.\u001b[39mfind_all(\u001b[38;5;124m'\u001b[39m\u001b[38;5;124mtable\u001b[39m\u001b[38;5;124m'\u001b[39m)[\u001b[38;5;241m0\u001b[39m]\u001b[38;5;241m.\u001b[39mfindAll(\u001b[38;5;124m'\u001b[39m\u001b[38;5;124mtr\u001b[39m\u001b[38;5;124m'\u001b[39m)[\u001b[38;5;241m1\u001b[39m:]\n",
      "\u001b[0;31mNameError\u001b[0m: name 'content' is not defined"
     ]
    }
   ],
   "source": [
    "content = content.find_all('table')[0].findAll('tr')[1:]"
   ]
  },
  {
   "cell_type": "markdown",
   "id": "8b6456dc",
   "metadata": {},
   "source": [
    "**Вытаскивание нужных данных из каждого элемента**"
   ]
  },
  {
   "cell_type": "code",
   "execution_count": null,
   "id": "a1b81bd0",
   "metadata": {},
   "outputs": [],
   "source": [
    "def get_values(leader):\n",
    "    if \"text-success\" in str(leader):\n",
    "        diploma = 1\n",
    "    else:\n",
    "        diploma = 0\n",
    "    term = leader.find_all('td')[0].get_text()\n",
    "    mark = leader.find_all('td')[2].get_text()\n",
    "    subject = leader.find_all('td')[1].get_text().split(\"Зачетных единиц:\")[0]\n",
    "    \n",
    "    score = leader.find_all('td')[1].find('strong').get_text()\n",
    "    return term, subject, mark, score, diploma"
   ]
  },
  {
   "cell_type": "code",
   "execution_count": null,
   "id": "b37bf6eb",
   "metadata": {},
   "outputs": [],
   "source": [
    "res = [get_values(item) for item in content] # (term, subject, mark, score, diploma) "
   ]
  },
  {
   "cell_type": "markdown",
   "id": "dee681ed",
   "metadata": {},
   "source": [
    "**Подсчёты результатов**"
   ]
  },
  {
   "cell_type": "code",
   "execution_count": null,
   "id": "3e0cd74f",
   "metadata": {},
   "outputs": [],
   "source": [
    "marks = []\n",
    "for item in res:\n",
    "    marks.append(item[2])\n",
    "total = sum([int(float(item[3])) for item in res])"
   ]
  },
  {
   "cell_type": "code",
   "execution_count": null,
   "id": "db2684dd",
   "metadata": {},
   "outputs": [],
   "source": [
    "print(\"Зачётных единиц суммарно:\", total)\n",
    "print(\"Отлично:\", marks.count(\"отлично\"))\n",
    "print(\"Хорошо: \", marks.count(\"хорошо\"))\n",
    "print(\"Удовлетворительно: \", marks.count(\"удов.\"))\n",
    "print(\"Зачтено: \", marks.count(\"зачтено\"))"
   ]
  },
  {
   "cell_type": "markdown",
   "id": "fd13343b",
   "metadata": {},
   "source": [
    "**Сохранение в .txt**"
   ]
  },
  {
   "cell_type": "code",
   "execution_count": null,
   "id": "c28b3c49",
   "metadata": {},
   "outputs": [],
   "source": [
    "with open(NAME.replace(\".html\", \".txt\").replace(\".htm\", \".txt\"), \"w+\") as f:\n",
    "    for item in res:\n",
    "        term, subject, mark, score, diploma = item\n",
    "        total += float(score)\n",
    "        f.write(f\"{term}\\t{subject}\\t{mark}\\t{score}\\t{diploma}\\n\")\n",
    "    print(f\"\"\"Result saved in '{NAME.replace(\".html\", \".txt\").replace(\".htm\", \".txt\")}'\"\"\")"
   ]
  },
  {
   "cell_type": "code",
   "execution_count": null,
   "id": "d2c99ec7",
   "metadata": {},
   "outputs": [],
   "source": []
  }
 ],
 "metadata": {
  "kernelspec": {
   "display_name": "Python 3 (ipykernel)",
   "language": "python",
   "name": "python3"
  },
  "language_info": {
   "codemirror_mode": {
    "name": "ipython",
    "version": 3
   },
   "file_extension": ".py",
   "mimetype": "text/x-python",
   "name": "python",
   "nbconvert_exporter": "python",
   "pygments_lexer": "ipython3",
   "version": "3.10.4"
  }
 },
 "nbformat": 4,
 "nbformat_minor": 5
}

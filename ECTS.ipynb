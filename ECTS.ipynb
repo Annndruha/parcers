{
 "cells": [
  {
   "cell_type": "markdown",
   "id": "447819cc",
   "metadata": {},
   "source": [
    "### Этот скрипт предназначен для парсинга страницы https://lk.msu.ru/cabinet/marks\n",
    "\n",
    "Для автоматического парсинга предмета, оценок и зачётных единиц\n",
    "\n",
    "**Вход скрипта:** Имя html файла (скачанной страницы с оценками). Обычно называется Оценки.html\n",
    "\n",
    "**Выход скрипта:** Таблица с оценками в txt, удобная для вставки в excel."
   ]
  },
  {
   "cell_type": "markdown",
   "id": "ddb34ef6",
   "metadata": {},
   "source": [
    "**Импорты и загрузка файла**"
   ]
  },
  {
   "cell_type": "code",
   "execution_count": null,
   "id": "d3712c00",
   "metadata": {},
   "outputs": [],
   "source": [
    "from bs4 import BeautifulSoup\n",
    "import glob\n",
    "import math"
   ]
  },
  {
   "cell_type": "code",
   "execution_count": null,
   "id": "0f78980d",
   "metadata": {},
   "outputs": [],
   "source": [
    "NAME = glob.glob(\"*Оценки*.htm*\")[0]\n",
    "\n",
    "with open(NAME) as fp:\n",
    "    soup = BeautifulSoup(fp, 'html.parser')"
   ]
  },
  {
   "cell_type": "markdown",
   "id": "c71391bf",
   "metadata": {},
   "source": [
    "**Парсинг до момента списка из нужных элементов**"
   ]
  },
  {
   "cell_type": "code",
   "execution_count": null,
   "id": "73621a89",
   "metadata": {},
   "outputs": [],
   "source": [
    "content = soup.find(\"div\", {\"id\": \"w0\"})"
   ]
  },
  {
   "cell_type": "code",
   "execution_count": null,
   "id": "14744c79",
   "metadata": {},
   "outputs": [],
   "source": [
    "content = content.find_all('table')[0].findAll('tr')[1:]"
   ]
  },
  {
   "cell_type": "markdown",
   "id": "9c3b1e44",
   "metadata": {},
   "source": [
    "**Вытаскивание нужных данных из каждого элемента**"
   ]
  },
  {
   "cell_type": "code",
   "execution_count": null,
   "id": "9256e7d4",
   "metadata": {},
   "outputs": [],
   "source": [
    "def get_values(leader):\n",
    "    if \"text-success\" in str(leader):\n",
    "        diploma = 1\n",
    "    else:\n",
    "        diploma = 0\n",
    "    term = leader.find_all('td')[0].get_text()\n",
    "    mark = leader.find_all('td')[2].get_text()\n",
    "    subject = leader.find_all('td')[1].get_text().split(\"Зачетных единиц:\")[0]\n",
    "    \n",
    "    score = leader.find_all('td')[1].find('strong').get_text()\n",
    "    return term, subject, mark, score, diploma"
   ]
  },
  {
   "cell_type": "code",
   "execution_count": null,
   "id": "0531ca86",
   "metadata": {},
   "outputs": [],
   "source": [
    "res = [get_values(item) for item in content] # (term, subject, mark, score, diploma) "
   ]
  },
  {
   "cell_type": "markdown",
   "id": "e064d684",
   "metadata": {},
   "source": [
    "**Подсчёты результатов**"
   ]
  },
  {
   "cell_type": "code",
   "execution_count": null,
   "id": "585d6b81",
   "metadata": {},
   "outputs": [],
   "source": [
    "marks = []\n",
    "for item in res:\n",
    "    marks.append(item[2])\n",
    "total = sum([int(float(item[3])) for item in res])"
   ]
  },
  {
   "cell_type": "code",
   "execution_count": null,
   "id": "8e57b50d",
   "metadata": {},
   "outputs": [],
   "source": [
    "print(\"Зачётных единиц суммарно:\", total)\n",
    "print(\"Отлично:\", marks.count(\"отлично\"))\n",
    "print(\"Хорошо: \", marks.count(\"хорошо\"))\n",
    "print(\"Удовлетворительно: \", marks.count(\"удов.\"))\n",
    "print(\"Зачтено: \", marks.count(\"зачтено\"))"
   ]
  },
  {
   "cell_type": "markdown",
   "id": "2bae5f90",
   "metadata": {},
   "source": [
    "**Сохранение в .txt**"
   ]
  },
  {
   "cell_type": "code",
   "execution_count": null,
   "id": "ec0658e4",
   "metadata": {},
   "outputs": [],
   "source": [
    "with open(NAME.replace(\".html\", \".txt\").replace(\".htm\", \".txt\"), \"w+\") as f:\n",
    "    for item in res:\n",
    "        term, subject, mark, score, diploma = item\n",
    "        total += float(score)\n",
    "        f.write(f\"{term}\\t{subject}\\t{mark}\\t{score}\\t{diploma}\\n\")\n",
    "    print(f\"\"\"Result saved in '{NAME.replace(\".html\", \".txt\").replace(\".htm\", \".txt\")}'\"\"\")"
   ]
  },
  {
   "cell_type": "code",
   "execution_count": null,
   "id": "7f663d23",
   "metadata": {},
   "outputs": [],
   "source": []
  }
 ],
 "metadata": {},
 "nbformat": 4,
 "nbformat_minor": 5
}

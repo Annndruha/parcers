{
 "cells": [
  {
   "cell_type": "code",
   "execution_count": null,
   "id": "29b555b6",
   "metadata": {},
   "outputs": [],
   "source": [
    "from glob import glob\n",
    "import pandas as pd\n",
    "from tqdm import tqdm"
   ]
  },
  {
   "cell_type": "code",
   "execution_count": null,
   "id": "f2b1f829",
   "metadata": {},
   "outputs": [],
   "source": [
    "files = glob('data/*')\n",
    "data = pd.concat((pd.read_csv(path) for path in tqdm(files)), ignore_index=True)"
   ]
  },
  {
   "cell_type": "code",
   "execution_count": null,
   "id": "d768ae55",
   "metadata": {},
   "outputs": [],
   "source": [
    "data.head()"
   ]
  },
  {
   "cell_type": "code",
   "execution_count": null,
   "id": "4c3a2917",
   "metadata": {},
   "outputs": [],
   "source": [
    "phone_number = input()\n",
    "df_search = data[data[\"phone_number\"] == phone_number]\n",
    "df_search"
   ]
  },
  {
   "cell_type": "code",
   "execution_count": null,
   "id": "55c1258d",
   "metadata": {},
   "outputs": [],
   "source": [
    "full_name = input()\n",
    "df_search = data[data[\"full_name\"].str.contains(full_name, na=False)]\n",
    "df_search"
   ]
  }
 ],
 "metadata": {},
 "nbformat": 4,
 "nbformat_minor": 5
}

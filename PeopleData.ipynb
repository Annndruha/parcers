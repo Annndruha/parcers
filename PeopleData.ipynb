{
 "cells": [
  {
   "cell_type": "code",
   "execution_count": null,
   "id": "60de7e92",
   "metadata": {},
   "outputs": [],
   "source": [
    "from glob import glob\n",
    "import pandas as pd\n",
    "from tqdm import tqdm"
   ]
  },
  {
   "cell_type": "code",
   "execution_count": null,
   "id": "6831269d",
   "metadata": {},
   "outputs": [],
   "source": [
    "files = glob('data/*')\n",
    "data = pd.concat((pd.read_csv(path) for path in tqdm(files)), ignore_index=True)"
   ]
  },
  {
   "cell_type": "code",
   "execution_count": null,
   "id": "a6fcf309",
   "metadata": {
    "scrolled": false
   },
   "outputs": [],
   "source": [
    "data.head()"
   ]
  },
  {
   "cell_type": "code",
   "execution_count": null,
   "id": "7df90393",
   "metadata": {
    "scrolled": false
   },
   "outputs": [],
   "source": [
    "phone_number = input()\n",
    "df_search = data[data[\"phone_number\"] == phone_number]\n",
    "df_search"
   ]
  },
  {
   "cell_type": "code",
   "execution_count": null,
   "id": "2bbcc880",
   "metadata": {},
   "outputs": [],
   "source": [
    "full_name = input()\n",
    "df_search = data[data[\"full_name\"].str.contains(full_name, na=False)]\n",
    "df_search"
   ]
  }
 ],
 "metadata": {
  "kernelspec": {
   "display_name": "Python 3",
   "language": "python",
   "name": "python3"
  },
  "language_info": {
   "codemirror_mode": {
    "name": "ipython",
    "version": 3
   },
   "file_extension": ".py",
   "mimetype": "text/x-python",
   "name": "python",
   "nbconvert_exporter": "python",
   "pygments_lexer": "ipython3",
   "version": "3.6.8"
  }
 },
 "nbformat": 4,
 "nbformat_minor": 5
}

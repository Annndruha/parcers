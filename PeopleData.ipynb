{
 "cells": [
  {
   "cell_type": "code",
   "execution_count": null,
   "id": "2e43ed98",
   "metadata": {},
   "outputs": [],
   "source": [
    "from glob import glob\n",
    "import pandas as pd\n",
    "from tqdm import tqdm"
   ]
  },
  {
   "cell_type": "code",
   "execution_count": null,
   "id": "93ee6f76",
   "metadata": {},
   "outputs": [],
   "source": [
    "files = glob('data/*')\n",
    "data = pd.concat((pd.read_csv(path) for path in tqdm(files)), ignore_index=True)"
   ]
  },
  {
   "cell_type": "code",
   "execution_count": null,
   "id": "a264fe54",
   "metadata": {},
   "outputs": [],
   "source": [
    "data.head()"
   ]
  },
  {
   "cell_type": "code",
   "execution_count": null,
   "id": "8d3cb70b",
   "metadata": {},
   "outputs": [],
   "source": [
    "phone_number = input()\n",
    "df_search = data[data[\"phone_number\"] == phone_number]\n",
    "df_search"
   ]
  },
  {
   "cell_type": "code",
   "execution_count": null,
   "id": "f5e3440c",
   "metadata": {},
   "outputs": [],
   "source": [
    "full_name = input()\n",
    "df_search = data[data[\"full_name\"].str.contains(full_name, na=False)]\n",
    "df_search"
   ]
  }
 ],
 "metadata": {},
 "nbformat": 4,
 "nbformat_minor": 5
}

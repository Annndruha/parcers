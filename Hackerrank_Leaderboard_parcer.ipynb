{
 "cells": [
  {
   "cell_type": "markdown",
   "id": "5980bc93",
   "metadata": {},
   "source": [
    "### Этот скрипт предназначен для парсинга страницы hackerrank с рейтингом участников контеста.\n",
    "\n",
    "Сделано это для того, чтобы не копипастить ручками кучу значений с ником/баллом/временем.\n",
    "\n",
    "**Вход скрипта:** Имя html файла (скачанной страницы с рейтингом)\n",
    "\n",
    "**Выход скрипта:** Таблица лидеров в txt, удобная для вставки в excel."
   ]
  },
  {
   "cell_type": "code",
   "execution_count": null,
   "id": "d3b2eaf4",
   "metadata": {},
   "outputs": [],
   "source": [
    "# !pip install pip install beautifulsoup4"
   ]
  },
  {
   "cell_type": "code",
   "execution_count": null,
   "id": "ff47a135",
   "metadata": {},
   "outputs": [],
   "source": [
    "from bs4 import BeautifulSoup\n",
    "import glob"
   ]
  },
  {
   "cell_type": "code",
   "execution_count": null,
   "id": "81ffcc10",
   "metadata": {},
   "outputs": [],
   "source": [
    "NAME = glob.glob(\"*Leaderboard*.html\")[0]\n",
    "\n",
    "\n",
    "with open(NAME) as fp:\n",
    "    soup = BeautifulSoup(fp, 'html.parser')"
   ]
  },
  {
   "cell_type": "code",
   "execution_count": null,
   "id": "87bdd436",
   "metadata": {},
   "outputs": [],
   "source": [
    "leaders_raw = soup.find(\"div\", {\"id\": \"leaders\"})\n",
    "leaders = leaders_raw.find_all(\"div\", {\"class\": \"leaderboard-list-view\"})"
   ]
  },
  {
   "cell_type": "code",
   "execution_count": null,
   "id": "6666eab5",
   "metadata": {},
   "outputs": [],
   "source": [
    "def get_values(leader):\n",
    "    nickname = leader.find(\"div\", {\"class\": \"span-flex-4\"})\n",
    "    nickname = nickname.p.a.attrs['data-value']\n",
    "\n",
    "    score = leader.find(\"div\", {\"class\": \"span-flex-3\"}).p.getText()\n",
    "    score = score.replace(\"\\n\", \"\").replace(\" \", \"\").replace(\".\", \",\")\n",
    "    \n",
    "    time = leader.find_all(\"div\", {\"class\": \"span-flex-2\"})[2].p.getText()\n",
    "    time = time.replace(\"\\n\", \"\").replace(\" \", \"\")\n",
    "    return nickname, score, time"
   ]
  },
  {
   "cell_type": "code",
   "execution_count": null,
   "id": "0f5e17c7",
   "metadata": {},
   "outputs": [],
   "source": [
    "with open(NAME.replace(\".html\", \".txt\"), \"w+\") as f:\n",
    "    for leader in leaders:\n",
    "        nickname, score, time = get_values(leader)\n",
    "        f.write(f\"{nickname}\\t{score}\\t{time}\\n\")\n",
    "    print(f\"\"\"Result saved in '{NAME.replace(\".html\", \".txt\")}'\"\"\")"
   ]
  }
 ],
 "metadata": {},
 "nbformat": 4,
 "nbformat_minor": 5
}

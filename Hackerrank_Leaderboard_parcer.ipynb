{
 "cells": [
  {
   "cell_type": "markdown",
   "id": "5980bc93",
   "metadata": {},
   "source": [
    "### Этот скрипт предназначен для парсинга страницы hackerrank с рейтингом участников контеста.\n",
    "\n",
    "Сделано это для того, чтобы не копипастить ручками кучу значений с ником/баллом/временем.\n",
    "\n",
    "**Вход скрипта:** Имя html файла (скачанной страницы с рейтингом)\n",
    "\n",
    "**Выход скрипта:** Таблица лидеров в txt, удобная для вставки в excel."
   ]
  },
  {
   "cell_type": "code",
   "execution_count": null,
   "id": "d3b2eaf4",
   "metadata": {},
   "outputs": [],
   "source": [
    "# !pip install pip install beautifulsoup4"
   ]
  },
  {
   "cell_type": "code",
   "execution_count": 1,
   "id": "ff47a135",
   "metadata": {},
   "outputs": [],
   "source": [
    "from bs4 import BeautifulSoup\n",
    "import glob"
   ]
  },
  {
   "cell_type": "code",
   "execution_count": 2,
   "id": "81ffcc10",
   "metadata": {},
   "outputs": [
    {
     "ename": "IndexError",
     "evalue": "list index out of range",
     "output_type": "error",
     "traceback": [
      "\u001b[0;31m---------------------------------------------------------------------------\u001b[0m",
      "\u001b[0;31mIndexError\u001b[0m                                Traceback (most recent call last)",
      "Input \u001b[0;32mIn [2]\u001b[0m, in \u001b[0;36m<cell line: 1>\u001b[0;34m()\u001b[0m\n\u001b[0;32m----> 1\u001b[0m NAME \u001b[38;5;241m=\u001b[39m \u001b[43mglob\u001b[49m\u001b[38;5;241;43m.\u001b[39;49m\u001b[43mglob\u001b[49m\u001b[43m(\u001b[49m\u001b[38;5;124;43m\"\u001b[39;49m\u001b[38;5;124;43m*Leaderboard*.html\u001b[39;49m\u001b[38;5;124;43m\"\u001b[39;49m\u001b[43m)\u001b[49m\u001b[43m[\u001b[49m\u001b[38;5;241;43m0\u001b[39;49m\u001b[43m]\u001b[49m\n\u001b[1;32m      4\u001b[0m \u001b[38;5;28;01mwith\u001b[39;00m \u001b[38;5;28mopen\u001b[39m(NAME) \u001b[38;5;28;01mas\u001b[39;00m fp:\n\u001b[1;32m      5\u001b[0m     soup \u001b[38;5;241m=\u001b[39m BeautifulSoup(fp, \u001b[38;5;124m'\u001b[39m\u001b[38;5;124mhtml.parser\u001b[39m\u001b[38;5;124m'\u001b[39m)\n",
      "\u001b[0;31mIndexError\u001b[0m: list index out of range"
     ]
    }
   ],
   "source": [
    "NAME = glob.glob(\"*Leaderboard*.html\")[0]\n",
    "\n",
    "\n",
    "with open(NAME) as fp:\n",
    "    soup = BeautifulSoup(fp, 'html.parser')"
   ]
  },
  {
   "cell_type": "code",
   "execution_count": 3,
   "id": "87bdd436",
   "metadata": {},
   "outputs": [
    {
     "ename": "NameError",
     "evalue": "name 'soup' is not defined",
     "output_type": "error",
     "traceback": [
      "\u001b[0;31m---------------------------------------------------------------------------\u001b[0m",
      "\u001b[0;31mNameError\u001b[0m                                 Traceback (most recent call last)",
      "Input \u001b[0;32mIn [3]\u001b[0m, in \u001b[0;36m<cell line: 1>\u001b[0;34m()\u001b[0m\n\u001b[0;32m----> 1\u001b[0m leaders_raw \u001b[38;5;241m=\u001b[39m \u001b[43msoup\u001b[49m\u001b[38;5;241m.\u001b[39mfind(\u001b[38;5;124m\"\u001b[39m\u001b[38;5;124mdiv\u001b[39m\u001b[38;5;124m\"\u001b[39m, {\u001b[38;5;124m\"\u001b[39m\u001b[38;5;124mid\u001b[39m\u001b[38;5;124m\"\u001b[39m: \u001b[38;5;124m\"\u001b[39m\u001b[38;5;124mleaders\u001b[39m\u001b[38;5;124m\"\u001b[39m})\n\u001b[1;32m      2\u001b[0m leaders \u001b[38;5;241m=\u001b[39m leaders_raw\u001b[38;5;241m.\u001b[39mfind_all(\u001b[38;5;124m\"\u001b[39m\u001b[38;5;124mdiv\u001b[39m\u001b[38;5;124m\"\u001b[39m, {\u001b[38;5;124m\"\u001b[39m\u001b[38;5;124mclass\u001b[39m\u001b[38;5;124m\"\u001b[39m: \u001b[38;5;124m\"\u001b[39m\u001b[38;5;124mleaderboard-list-view\u001b[39m\u001b[38;5;124m\"\u001b[39m})\n",
      "\u001b[0;31mNameError\u001b[0m: name 'soup' is not defined"
     ]
    }
   ],
   "source": [
    "leaders_raw = soup.find(\"div\", {\"id\": \"leaders\"})\n",
    "leaders = leaders_raw.find_all(\"div\", {\"class\": \"leaderboard-list-view\"})"
   ]
  },
  {
   "cell_type": "code",
   "execution_count": null,
   "id": "6666eab5",
   "metadata": {},
   "outputs": [],
   "source": [
    "def get_values(leader):\n",
    "    nickname = leader.find(\"div\", {\"class\": \"span-flex-4\"})\n",
    "    nickname = nickname.p.a.attrs['data-value']\n",
    "\n",
    "    score = leader.find(\"div\", {\"class\": \"span-flex-3\"}).p.getText()\n",
    "    score = score.replace(\"\\n\", \"\").replace(\" \", \"\").replace(\".\", \",\")\n",
    "    \n",
    "    time = leader.find_all(\"div\", {\"class\": \"span-flex-2\"})[2].p.getText()\n",
    "    time = time.replace(\"\\n\", \"\").replace(\" \", \"\")\n",
    "    return nickname, score, time"
   ]
  },
  {
   "cell_type": "code",
   "execution_count": null,
   "id": "0f5e17c7",
   "metadata": {},
   "outputs": [],
   "source": [
    "with open(NAME.replace(\".html\", \".txt\"), \"w+\") as f:\n",
    "    for leader in leaders:\n",
    "        nickname, score, time = get_values(leader)\n",
    "        f.write(f\"{nickname}\\t{score}\\t{time}\\n\")\n",
    "    print(f\"\"\"Result saved in '{NAME.replace(\".html\", \".txt\")}'\"\"\")"
   ]
  }
 ],
 "metadata": {
  "kernelspec": {
   "display_name": "Python 3 (ipykernel)",
   "language": "python",
   "name": "python3"
  },
  "language_info": {
   "codemirror_mode": {
    "name": "ipython",
    "version": 3
   },
   "file_extension": ".py",
   "mimetype": "text/x-python",
   "name": "python",
   "nbconvert_exporter": "python",
   "pygments_lexer": "ipython3",
   "version": "3.10.4"
  }
 },
 "nbformat": 4,
 "nbformat_minor": 5
}

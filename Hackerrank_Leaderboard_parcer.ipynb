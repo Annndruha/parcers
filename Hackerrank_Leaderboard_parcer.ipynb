{
 "cells": [
  {
   "cell_type": "markdown",
   "id": "ca8f367b",
   "metadata": {},
   "source": [
    "### Этот скрипт предназначен для парсинга страницы hackerrank с рейтингом участников контеста.\n",
    "\n",
    "Сделано это для того, чтобы не копипастить ручками кучу значений с ником/баллом/временем.\n",
    "\n",
    "**Вход скрипта:** Имя html файла (скачанной страницы с рейтингом)\n",
    "\n",
    "**Выход скрипта:** Таблица лидеров в txt, удобная для вставки в excel."
   ]
  },
  {
   "cell_type": "code",
   "execution_count": 14,
   "id": "c0754eda",
   "metadata": {},
   "outputs": [],
   "source": [
    "# !pip install pip install beautifulsoup4"
   ]
  },
  {
   "cell_type": "code",
   "execution_count": 15,
   "id": "8aec42f5",
   "metadata": {},
   "outputs": [],
   "source": [
    "from bs4 import BeautifulSoup\n",
    "import glob"
   ]
  },
  {
   "cell_type": "code",
   "execution_count": 16,
   "id": "74298c5e",
   "metadata": {},
   "outputs": [],
   "source": [
    "NAME = glob.glob(\"*Leaderboard*.html\")[0]\n",
    "\n",
    "\n",
    "with open(NAME) as fp:\n",
    "    soup = BeautifulSoup(fp, 'html.parser')"
   ]
  },
  {
   "cell_type": "code",
   "execution_count": 17,
   "id": "272e4b25",
   "metadata": {},
   "outputs": [],
   "source": [
    "leaders_raw = soup.find(\"div\", {\"id\": \"leaders\"})\n",
    "leaders = leaders_raw.find_all(\"div\", {\"class\": \"leaderboard-list-view\"})"
   ]
  },
  {
   "cell_type": "code",
   "execution_count": 18,
   "id": "bfef1717",
   "metadata": {},
   "outputs": [],
   "source": [
    "def get_values(leader):\n",
    "    nickname = leader.find(\"div\", {\"class\": \"span-flex-4\"})\n",
    "    nickname = nickname.p.a.attrs['data-value']\n",
    "\n",
    "    score = leader.find(\"div\", {\"class\": \"span-flex-3\"}).p.getText()\n",
    "    score = score.replace(\"\\n\", \"\").replace(\" \", \"\").replace(\".\", \",\")\n",
    "    \n",
    "    time = leader.find_all(\"div\", {\"class\": \"span-flex-2\"})[2].p.getText()\n",
    "    time = time.replace(\"\\n\", \"\").replace(\" \", \"\")\n",
    "    return nickname, score, time"
   ]
  },
  {
   "cell_type": "code",
   "execution_count": 19,
   "id": "39ae4a61",
   "metadata": {},
   "outputs": [
    {
     "name": "stdout",
     "output_type": "stream",
     "text": [
      "Result saved in 'Leaderboard _ HackerRank.txt'\n"
     ]
    }
   ],
   "source": [
    "with open(NAME.replace(\".html\", \".txt\"), \"w+\") as f:\n",
    "    for leader in leaders:\n",
    "        nickname, score, time = get_values(leader)\n",
    "        f.write(f\"{nickname}\\t{score}\\t{time}\\n\")\n",
    "    print(f\"\"\"Result saved in '{NAME.replace(\".html\", \".txt\")}'\"\"\")"
   ]
  }
 ],
 "metadata": {
  "kernelspec": {
   "display_name": "Python 3",
   "language": "python",
   "name": "python3"
  },
  "language_info": {
   "codemirror_mode": {
    "name": "ipython",
    "version": 3
   },
   "file_extension": ".py",
   "mimetype": "text/x-python",
   "name": "python",
   "nbconvert_exporter": "python",
   "pygments_lexer": "ipython3",
   "version": "3.6.8"
  }
 },
 "nbformat": 4,
 "nbformat_minor": 5
}
